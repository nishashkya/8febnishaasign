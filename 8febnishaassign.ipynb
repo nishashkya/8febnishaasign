{
 "cells": [
  {
   "cell_type": "code",
   "execution_count": null,
   "id": "3202e7c7-746b-4ea8-81d4-2aaf3fc17126",
   "metadata": {},
   "outputs": [],
   "source": [
    "#ques1_Answer :\n",
    "Abstraction is the process of hiding the internal details of an application from the outer world. Abstraction is used to describe things in simple terms. \n",
    "It’s used to create a boundary between the application and the client programs.\n",
    "example:We can heat our food in Microwave. We press some buttons to set the timer and type of food. \n",
    "Finally, we get a hot and delicious meal. The microwave internal details are hidden from us. We have been given access to the functionality in a very simple manner.\n"
   ]
  },
  {
   "cell_type": "code",
   "execution_count": null,
   "id": "a095cd7e-6c4f-4713-95c4-4242bd62f88e",
   "metadata": {},
   "outputs": [],
   "source": [
    "#ques2_Answer :\n",
    "Abstraction is a way of representing some specific data.data abstraction in python programming means to hide internal functionalities that are performing on the application using codes.\n",
    "it is used to hide unwanted details from the user.It also allows focusing on the main concept.\n",
    "\n",
    "example : Suppose you want to create a banking application and you are asked to collect all the information about your customer. there are some chances that you will end up with some unnecessary informatin\n",
    "like favourite movie favourite actor etc. but you don't required this information to create a bank account.'\n",
    "So, you need to select only the useful information for your banking application from that pool. Data like name, address, tax information, etc. make sense for a banking application.\n",
    "\n",
    "\n",
    "Encapsulation is a way of hiding the complexity of something and exposing only the parts you wish to expose.\n",
    "generally it stores or places data in a single place to make it easily readable and compact in one place.\n",
    "\n",
    "example: Let’s take an example of mobile device. With the help of mobile devices, you can perform various functions like taking a picture, sending a message, recording video/ audio, access the web and much more.\n",
    "\n",
    "The features mentioned above are functionalities of most of the smartphone. However, you don’t need to understand the internal functioning details of those features before using this program. \n",
    "Example, you don’t need to know how your camera calculates gamma correction or identifies a human face in an image. You just need to learn the software interface. This is encapsulation.\n"
   ]
  },
  {
   "cell_type": "code",
   "execution_count": null,
   "id": "5cdf98b6-85f1-467e-9d85-2bb27c1e4e99",
   "metadata": {},
   "outputs": [],
   "source": [
    "#ques3_Answer :\n",
    "Python has a module called abc (abstract base class) that offers the necessary tools for crafting an abstract base class.\n",
    "The main goal of the abstract base class is to provide a standardized way to test whether an object adheres to a given specification.\n",
    "It can also prevent any attempt to instantiate a subclass that doesn’t override a particular method in the superclass. And finally, using an abstract class, a class can derive identity from another class without any object inheritance."
   ]
  },
  {
   "cell_type": "code",
   "execution_count": null,
   "id": "e828484e-fcb0-4507-b84b-2aa9832cafb0",
   "metadata": {},
   "outputs": [],
   "source": [
    "#ques4_Answeer :we can use the inbuild python class Abstract Base Class (ABC) to achieve data abstraction in python. We can say a class is an abstract class when a class contains an abstract method. We can use @abstractmethod keyword to define an abstract method in python. \n",
    "In the below python program, we created an abstract class Subject which extends Abstract Base Class (ABC). We also defined an abstract method subject. We also created other classes like Maths, Physics, Chemistry, and English which all extend an abstract class Subject \n",
    "thus all these classes are subclasses and the Subject is the superclass. We provided different implementations for the subject method of all the subclasses."
   ]
  },
  {
   "cell_type": "code",
   "execution_count": 3,
   "id": "dc4b5060-7d41-4024-9c08-18233c4d4cf7",
   "metadata": {},
   "outputs": [
    {
     "name": "stdout",
     "output_type": "stream",
     "text": [
      "Subject is Maths\n",
      "Subject is Physics\n",
      "Subject is Chemistry\n",
      "Subject is English\n"
     ]
    }
   ],
   "source": [
    "# answer4 : achivement of data abstraction in python\n",
    "from abc import ABC,abstractmethod\n",
    "# abstract class\n",
    "class Subject(ABC):\n",
    "    @abstractmethod\n",
    "    def subject(self):\n",
    "        pass\n",
    "class Maths(Subject):\n",
    "    # override superclass method\n",
    "    def subject(self):\n",
    "        print(\"Subject is Maths\")\n",
    "class Physics(Subject):\n",
    "    # override superclass method\n",
    "    def subject(self):\n",
    "        print(\"Subject is Physics\")\n",
    "class Chemistry(Subject):\n",
    "    # override superclass method\n",
    "    def subject(self):\n",
    "        print(\"Subject is Chemistry\")\n",
    "class English(Subject):\n",
    "    # override superclass method\n",
    "    def subject(self):\n",
    "        print(\"Subject is English\")\n",
    "maths=Maths()\n",
    "maths.subject()\n",
    "physics=Physics()\n",
    "physics.subject()\n",
    "chemistry=Chemistry()\n",
    "chemistry.subject()\n",
    "english=English()\n",
    "english.subject()\n"
   ]
  },
  {
   "cell_type": "code",
   "execution_count": null,
   "id": "6d940f2a-d2c0-4a87-b84e-90b37594bac1",
   "metadata": {},
   "outputs": [],
   "source": [
    "#ques5_Answer :\n",
    "An abstract class can be considered as a blueprint for other classes. It allows you to create a set of methods that must be created within any child classes built from the abstract class. A class which contains one or more abstract methods is called an abstract class. \n",
    "Abstract classes are incomplete because they have methods that are not defined. If python allows creating an object for abstract classes then using that object if anyone calls the abstract method, but there is no actual implementation to invoke. So we use an abstract class as a template and according to the need, we extend it and build on it before we can use it. \n",
    "Due to the fact, an abstract class is not a concrete class, it cannot be instantiated. When we create an object for the abstract class it raises an error. "
   ]
  },
  {
   "cell_type": "code",
   "execution_count": 5,
   "id": "93f7103a-2609-4085-b4f6-3b6ffff190c1",
   "metadata": {},
   "outputs": [
    {
     "ename": "TypeError",
     "evalue": "Can't instantiate abstract class Animal with abstract method move",
     "output_type": "error",
     "traceback": [
      "\u001b[0;31m---------------------------------------------------------------------------\u001b[0m",
      "\u001b[0;31mTypeError\u001b[0m                                 Traceback (most recent call last)",
      "Cell \u001b[0;32mIn [5], line 23\u001b[0m\n\u001b[1;32m     20\u001b[0m     \u001b[38;5;28;01mdef\u001b[39;00m \u001b[38;5;21mmove\u001b[39m(\u001b[38;5;28mself\u001b[39m):\n\u001b[1;32m     21\u001b[0m         \u001b[38;5;28mprint\u001b[39m(\u001b[38;5;124m\"\u001b[39m\u001b[38;5;124mI can roar\u001b[39m\u001b[38;5;124m\"\u001b[39m)\n\u001b[0;32m---> 23\u001b[0m c \u001b[38;5;241m=\u001b[39m\u001b[43mAnimal\u001b[49m\u001b[43m(\u001b[49m\u001b[43m)\u001b[49m\n",
      "\u001b[0;31mTypeError\u001b[0m: Can't instantiate abstract class Animal with abstract method move"
     ]
    }
   ],
   "source": [
    "from abc import ABC,abstractmethod\n",
    " \n",
    "class Animal(ABC):\n",
    "    @abstractmethod\n",
    "    def move(self):\n",
    "        pass\n",
    "class Human(Animal):\n",
    "    def move(self):\n",
    "        print(\"I can walk and run\")\n",
    " \n",
    "class Snake(Animal):\n",
    "    def move(self):\n",
    "        print(\"I can crawl\")\n",
    " \n",
    "class Dog(Animal):\n",
    "    def move(self):\n",
    "        print(\"I can bark\")\n",
    " \n",
    "class Lion(Animal):\n",
    "    def move(self):\n",
    "        print(\"I can roar\")\n",
    "        \n",
    "c =Animal()"
   ]
  },
  {
   "cell_type": "code",
   "execution_count": null,
   "id": "79b1eed6-e4ff-4a69-a732-2991e14d25f4",
   "metadata": {},
   "outputs": [],
   "source": []
  }
 ],
 "metadata": {
  "kernelspec": {
   "display_name": "Python 3 (ipykernel)",
   "language": "python",
   "name": "python3"
  },
  "language_info": {
   "codemirror_mode": {
    "name": "ipython",
    "version": 3
   },
   "file_extension": ".py",
   "mimetype": "text/x-python",
   "name": "python",
   "nbconvert_exporter": "python",
   "pygments_lexer": "ipython3",
   "version": "3.10.6"
  }
 },
 "nbformat": 4,
 "nbformat_minor": 5
}
